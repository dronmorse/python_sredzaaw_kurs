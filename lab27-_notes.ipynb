{
 "cells": [
  {
   "cell_type": "code",
   "execution_count": null,
   "metadata": {},
   "outputs": [],
   "source": [
    "'''\n",
    "Classes - connects functions and data together. \n",
    "Attributes = data\n",
    "Methods = functions\n",
    "\n",
    "class Car:\n",
    "    def __init__(self, brand, model, isAirBagOK): #very important! you wll have to pass the attributes when calling the class. self defines THIS instance\n",
    "        self.brand = brand #as self is the initialized object, you have to pass the provided  arguments to the object - just like that\n",
    "        self.model = model\n",
    "        self.isAirBagOK = isAirBagOK\n",
    "\n",
    "car_01 = Car('Seat','Ibiza',True) #this way we are initiating an object. A Seat Ibiza with working airbags is initialized and saved under car_01 variable\n",
    "print(car_01.brand, car_01,model, car_01,isAirBagOK)\n",
    "\n",
    "This way \n",
    "'''"
   ]
  },
  {
   "cell_type": "code",
   "execution_count": null,
   "metadata": {},
   "outputs": [],
   "source": [
    "'''\n",
    "you can add a function to a Class (it is called a method). When you pass parameter as \"self\" it is taking the INITIALIZED INSTANCE as the \n",
    "parameter - you also don't have to pass it when calling a method from a class, python will always pass it automatically\n",
    "\n",
    "to use it it is best to call an instance first and after that call a method upon that:\n",
    "instance = Class(parameters)\n",
    "print(instance.method())\n",
    "But it is also possible to call it in a single line - Class(parameters).method()\n",
    "you can also define variables inside the class (not under init!!)\n",
    "class Car:  \n",
    "    nrcars = 0\n",
    "    listcars = []\n",
    "\n",
    "To call them within a method use class.variable =,+= etc.\n",
    "'''"
   ]
  },
  {
   "cell_type": "code",
   "execution_count": null,
   "metadata": {},
   "outputs": [],
   "source": [
    "'''\n",
    "vars() - Returns info of instance of a given class\n",
    "dir() - This function displays more attributes than vars() function, as it is\n",
    "not limited to an instance. It displays the class attributes as well. It also displays the attributes of its ancestor classes.\n",
    "isinstance(x,y) - checks if x is an instance of y class\n",
    "type() - returns the type of the object (to check if this is a class or an instance)\n",
    "'''"
   ]
  },
  {
   "cell_type": "code",
   "execution_count": null,
   "metadata": {},
   "outputs": [],
   "source": [
    "'''\n",
    "to hide a variable in a method you can do something like this:\n",
    "class Car:\n",
    "    def __init__(self,enginestatus):\n",
    "        self.__enginestatus = enginestatus\n",
    "\n",
    "you will have to call this parameter every time you use the method/class!\n",
    "Now it is impossible to change the parameter lol to something else!\n",
    "Car(True).__enginestatus = False\n",
    "will not work and the status will still be True! BE CAREFUL - IT DOESNT RETURN AN ERROR! In fact, it will create a new attribute!\n",
    "\n",
    "however it is not perfect - the parameter just is hidden under a new name: _Car__enginestatus so soeone may still modify it in the future\n",
    "\n",
    "to remove an attribute from an object use del Car('True').enginestatus\n",
    "to add a new attrubite to an object use setattr(x,y,z) x - Object, y - attribute's name z - attribute's value\n",
    "same with delattr - deletes\n",
    "hasattr(x,y) (as above) checks if the attribute is an attribute\n",
    "'''"
   ]
  },
  {
   "cell_type": "code",
   "execution_count": null,
   "metadata": {},
   "outputs": [],
   "source": []
  }
 ],
 "metadata": {
  "kernelspec": {
   "display_name": "Python 3",
   "language": "python",
   "name": "python3"
  },
  "language_info": {
   "name": "python",
   "version": "3.10.11"
  },
  "orig_nbformat": 4
 },
 "nbformat": 4,
 "nbformat_minor": 2
}
