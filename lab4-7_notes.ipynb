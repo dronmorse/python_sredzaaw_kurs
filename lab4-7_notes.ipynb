{
 "cells": [
  {
   "cell_type": "code",
   "execution_count": null,
   "metadata": {},
   "outputs": [],
   "source": [
    "#logic + file creation\n",
    "\n",
    "#komentowanie blokowe \n",
    "'''\n",
    "xxx\n",
    "'''\n",
    "\n",
    "'''\n",
    "używanie logiki or i and umożliwia zastąpienie if i else zapisując to w jednej linijce, zamiast całego bloku!\n",
    "''' \n",
    "\n"
   ]
  },
  {
   "cell_type": "code",
   "execution_count": 13,
   "metadata": {},
   "outputs": [
    {
     "name": "stdout",
     "output_type": "stream",
     "text": [
      "it is not equal to one\n",
      "its not 1 or 2\n"
     ]
    }
   ],
   "source": [
    "#if and pass\n",
    "\n",
    "'''\n",
    "po if można dać pass żeby nic nie robił w danym przyadpku (duh)\n",
    "'''\n",
    "\n",
    "#skrócony zapis if (zalecane w przypadku prostych pdostawień) :\n",
    "a = 3\n",
    "boolean = False\n",
    "myword = \"it is equal to 1\" if a == 1 else \"it is not equal to one\"\n",
    "print (myword)\n",
    "#można również tak budować wyrażenia zagniezżdżone\n",
    "myword = \"it is equal to 1\" if a == 1 else \"it is equal to two\" if a == 2 else \"its not 1 or 2\"\n",
    "print (myword)\n"
   ]
  },
  {
   "cell_type": "code",
   "execution_count": 14,
   "metadata": {},
   "outputs": [
    {
     "data": {
      "text/plain": [
       "'\\nmożliwe jest dodanie do pętli funkcję else, tak samo jak do ifa. Jeżeli zakończy się pętlę for abortem, else sie nie wykona. Else działa jak \"finally\" i wykonywana jest w momencie, kiedy\\n'"
      ]
     },
     "execution_count": 14,
     "metadata": {},
     "output_type": "execute_result"
    }
   ],
   "source": [
    "#else w pętli for/while\n",
    "\n",
    "'''\n",
    "możliwe jest dodanie do pętli funkcję else, tak samo jak do ifa. Jeżeli zakończy się pętlę for abortem, else sie nie wykona. Else działa jak \"finally\" i \n",
    "wykonywana jest w momencie, kiedy pętla kończy się z sukcesem\n",
    "'''"
   ]
  },
  {
   "cell_type": "code",
   "execution_count": null,
   "metadata": {},
   "outputs": [],
   "source": []
  }
 ],
 "metadata": {
  "kernelspec": {
   "display_name": "Python 3.10.8 64-bit (microsoft store)",
   "language": "python",
   "name": "python3"
  },
  "language_info": {
   "codemirror_mode": {
    "name": "ipython",
    "version": 3
   },
   "file_extension": ".py",
   "mimetype": "text/x-python",
   "name": "python",
   "nbconvert_exporter": "python",
   "pygments_lexer": "ipython3",
   "version": "3.10.8"
  },
  "orig_nbformat": 4,
  "vscode": {
   "interpreter": {
    "hash": "9cecb37d3d3ed08e3c98b31dd923267800720ecde2c49cefea9e70b17876fcd7"
   }
  }
 },
 "nbformat": 4,
 "nbformat_minor": 2
}
