{
 "cells": [
  {
   "cell_type": "code",
   "execution_count": null,
   "metadata": {},
   "outputs": [],
   "source": [
    "'''\n",
    "lab10\n",
    "\n",
    "listA = list(range(6))\n",
    "listB = list(range(6))\n",
    "\n",
    "product = []\n",
    "for a in listA:\n",
    "    for b in listB:\n",
    "        product.append((a,b))\n",
    "print (product)\n",
    "\n",
    "to to samo co:\n",
    "\n",
    "product = [(a,b) for a in listA for b in listB]\n",
    "print (product)\n",
    ":)\n",
    "\n",
    "product = [(a,b) for a in listA for b in listB if a % 2 == 1 and b % 2 == 1]\n",
    "print (product)\n",
    "\n",
    " \n",
    "'''\n",
    "\n"
   ]
  },
  {
   "cell_type": "code",
   "execution_count": null,
   "metadata": {},
   "outputs": [],
   "source": [
    "'''\n",
    "lab11\n",
    "generatory\n",
    "gen = ((a,b) for a in listA for b in listB))\n",
    "\n",
    "generator nie zajmuje pamięci a jedynie mówi o kolejności generowania zmiennych w sekwencji. Użyteczne przy BARDZO DUŻEJ ilości danych\n",
    "GIMMICK - interowanie po generatorach jest inne. Jeżeli wywołamy zmienną z generatora to nie da się jej wywołać ponownie! Na przykład, \n",
    "jezeli pierwszą wartością generatora jest 1 a drugą jest 2, po wywołaniu pierwszej wartości next(gen) otrzymamy jeden, lecz po kolejnej\n",
    "próbie wywołania generatora (np. w pętli albo funkcją next) otrzymamy 2 (a nie 1!!!) Jeżeli wygenerujemy cały generator to kolejne zapytania\n",
    "odpowiedzą pustym stringiem. Jeżeli chcemy iterować od nowa po generatorze należy go od nowa zdefiniować.\n",
    "\n",
    "while True:\n",
    "    try:\n",
    "        print(next(gen))\n",
    "    except StopIteration:\n",
    "        print(\"all values have been generated\")\n",
    "        break\n",
    "'''"
   ]
  },
  {
   "cell_type": "code",
   "execution_count": null,
   "metadata": {},
   "outputs": [],
   "source": [
    "'''\n",
    "lab13\n",
    "\n",
    "eval() wykonuje fragment kodu podany w pierwszym parametrze wykorzystując zmienną podaną w kodzie (global). Użyteczność - jeżeli użytkownik podaje równanie jako string można \n",
    "je wciąż wykonać (nawet w pętli!) wykorzystując właśnie eval i podając input użytkownika jako parametr\n",
    "'''"
   ]
  },
  {
   "cell_type": "code",
   "execution_count": null,
   "metadata": {},
   "outputs": [],
   "source": [
    "'''\n",
    "lab14\n",
    "\n",
    "eval() jest przydatny do wyliczeń - nie każdy kod zostanie wykonany. exec() pozwala na wykonanie wszystkich fragmentów kodu (np. pozwala na podmienienie zmiennych za pomocą\n",
    "imputu użytkownika!). Exec() może przyjmować nawet zmienne wcześniej niezdefiniowane, a podane jako parametr dla exec(). Jest to bardzo niebezpieczna funkcja \n",
    "\n",
    "exec() jest przydatny do wykonywania kodów z plików!\n",
    "'''"
   ]
  },
  {
   "cell_type": "code",
   "execution_count": null,
   "metadata": {},
   "outputs": [],
   "source": [
    "'''\n",
    "lab15\n",
    "\n",
    "compile() wykonuje prekompilację pliku - jest szybszy niż exec(), bo exec() kompiluje każdą linijkę osobno. Syntax+ compile(<source>, <filename>, <mode /exec or eval or single/>)\n",
    "filename to nazwa pliku z którego pochodzi source. Jeżeli source pochodzi bezpośrednio z kodu wtedy wpisuje się cokolwiek (ale trzeba coś wpisać!)\n",
    "jeżeli intensywnie wykorzystujesz exec/eval wtedy warto najpeirw skompilować a później dopiero wykonywac => ok. 22 razy szybciej działa kod!\n",
    "'''"
   ]
  }
 ],
 "metadata": {
  "language_info": {
   "name": "python"
  },
  "orig_nbformat": 4
 },
 "nbformat": 4,
 "nbformat_minor": 2
}
