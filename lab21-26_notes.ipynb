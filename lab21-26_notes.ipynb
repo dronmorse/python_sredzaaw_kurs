{
 "cells": [
  {
   "cell_type": "code",
   "execution_count": null,
   "metadata": {},
   "outputs": [],
   "source": [
    "''''\n",
    "wrapper - a function that modify or add/subtract something from already created function. To create such a function the easiest way would be to \n",
    "define a function CreateWrapper, inside this function create a new function Wrapper that returns our original function inside (e.g. saved as \n",
    "a variable). CreateWrapper has to take the original function as a parameter (to save it as a variable). \n",
    "Wrapper and the called function has to accept all the parameters that the original functon accepted (use *args, **kwargs)\n",
    "\n",
    "import functools - allows to use wrapper on a function while still calling the original function (the name does not have to change). To use it,\n",
    "add @<CreateWrapper_name>. This is called \"decorating\"\n",
    "'''"
   ]
  },
  {
   "cell_type": "code",
   "execution_count": 1,
   "metadata": {},
   "outputs": [
    {
     "data": {
      "text/plain": [
       "'\\nWrapper can also save to file - create a \"log\" file. The problem is that using a wrapper this way will use only one wrapper!\\n'"
      ]
     },
     "execution_count": 1,
     "metadata": {},
     "output_type": "execute_result"
    }
   ],
   "source": [
    "'''\n",
    "Wrapper can also save to file - create a \"log\" file. The problem is that using a wrapper this way will use only one wrapper!\n",
    "After @<wrapper_function_name> you can add a parameter! To do this, you have to define one more(!) function above the wrapper to take into the\n",
    "parameter with file path!\n",
    "\n",
    "import functools\n",
    "\n",
    "def CreateWrapperwithParameter(parameter):\n",
    "    def CreateWrapper(func):\n",
    "        def WrapperFunction(*args, **kwargs):\n",
    "            ---\n",
    "            ---\n",
    "            ---\n",
    "            result = func(*args, **kwargs)\n",
    "            ---\n",
    "            ---\n",
    "            return result\n",
    "        return WrapperFunction\n",
    "    return CreaterWrapper\n",
    "\n",
    "you can use this wrapper by calling\n",
    "@CreateWrapperwithParameter(parameter)\n",
    "'''"
   ]
  },
  {
   "cell_type": "code",
   "execution_count": 3,
   "metadata": {},
   "outputs": [
    {
     "data": {
      "text/plain": [
       "'\\nHOW TO SEND MAILS FROM PYTHON?\\nimport smtplib\\n(if Google - enable less ssafe apps\")\\n\\nmailFrom = \"YourAutomationSystem\"\\nmailTo = [\\'magazynpamieci@gmail.com\\']\\nmailSubject = \\'Hello bud\\'\\nmailBody = \\'This is the body of my mail\\'\\nmessage = \\'From = {}\\n\\n\\n'"
      ]
     },
     "execution_count": 3,
     "metadata": {},
     "output_type": "execute_result"
    }
   ],
   "source": [
    "'''\n",
    "HOW TO SEND MAILS FROM PYTHON?\n",
    "import smtplib\n",
    "(if Google - enable less ssafe apps\")\n",
    "\n",
    "mailFrom = \"YourAutomationSystem\"\n",
    "mailTo = ['magazynpamieci@gmail.com']\n",
    "mailSubject = 'Hello bud'\n",
    "mailBody = 'This is the body of my mail'\n",
    "\n",
    "#the actual mail\n",
    "message = '''From = {}\n",
    "Subject = {}\n",
    "\n",
    "{}'''.format(mailFrom, mailSubject, mailBody)\n",
    "\n",
    "user = \"usermail\"\n",
    "password = \"pswd\"\n",
    "\n",
    "try:\n",
    "    server = smtplib.SMTP_SSL('smtp.gmail.com', 465)\n",
    "    server.ehlo()\n",
    "    server.login(user,password)\n",
    "    server.sendmail(user,mailTo,message)\n",
    "    server.close()\n",
    "    print('mail sent')\n",
    "except:\n",
    "    print(\"An error has occured\")\n",
    "'''"
   ]
  },
  {
   "cell_type": "code",
   "execution_count": null,
   "metadata": {},
   "outputs": [],
   "source": [
    "'''\n",
    "Partial function allows you to predefine a set of parameters for a function\n",
    "'''"
   ]
  },
  {
   "cell_type": "code",
   "execution_count": null,
   "metadata": {},
   "outputs": [],
   "source": [
    "'''\n",
    "how to build a cache for a function\n",
    "use functools and @functools.lru_cache() - it caches calculations to reuse the output\n",
    "cache_info tells you how many values were cahced and how many cache values have you used - usage: print(function.cache_info())\n",
    "a function for this cache has to be deterministic!\n",
    "'''"
   ]
  },
  {
   "cell_type": "code",
   "execution_count": null,
   "metadata": {},
   "outputs": [],
   "source": [
    "'''\n",
    "Lambda - something very classical for Python - it allow syou to define a function in just one line. E.g. if you woul like to  define a function that doubles x,\n",
    "you would write f = lambda x: x*2. After printing f(x) it will print a doubled value\n",
    "Syntax: Lambda <argument>: <code>\n",
    "example:\n",
    "f = lambda x,y: x**y\n",
    "print(f(x,y))\n",
    "\n",
    "you can use a lambda function inside another function to \"generate\" functions. This way you can define a function, pass arguments - this\n",
    "genereates another function (the lambda one) for whichyou can also pass parameters.\n",
    "\n",
    "'''"
   ]
  }
 ],
 "metadata": {
  "kernelspec": {
   "display_name": "Python 3",
   "language": "python",
   "name": "python3"
  },
  "language_info": {
   "codemirror_mode": {
    "name": "ipython",
    "version": 3
   },
   "file_extension": ".py",
   "mimetype": "text/x-python",
   "name": "python",
   "nbconvert_exporter": "python",
   "pygments_lexer": "ipython3",
   "version": "3.10.11"
  },
  "orig_nbformat": 4
 },
 "nbformat": 4,
 "nbformat_minor": 2
}
