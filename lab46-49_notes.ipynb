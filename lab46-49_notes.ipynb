{
 "cells": [
  {
   "cell_type": "code",
   "execution_count": null,
   "metadata": {},
   "outputs": [],
   "source": [
    "'''\n",
    "iterators and iterable types\n",
    "\n",
    "Iterable object is an object you can use a for loop on\n",
    "\n",
    "Iterator adds new values to the iterable object or creates one - iterators are classes that generate object with methods __next__, __iter__\n",
    "creating iterators instead of loops is much less demanding on the CPU and overall resources. It also requires less code\n",
    "if you don't want to create your own class, you can use two functions: iter(object) creates an iterator of a given object e.g. a list, \n",
    "next(iter(object)) moves to the next element of the object and returns it e.g. for printing\n",
    "\n",
    "\n",
    "__next__ method is a part of the built-in iterator and can be called on an iterator:\n",
    "list = [1,2,3,4,5]\n",
    "a = iter(list)\n",
    "while True:\n",
    "    try:\n",
    "        print(a.__next__()) \n",
    "    except:\n",
    "        break\n",
    "\n",
    "next() can be replaced by .__next__()\n",
    "iter() can be replaced by .__iter__()\n",
    "\n",
    "when creating a class, in the __next__ method, for the condition under which the iteration should stop, use raise StopIteration()\n",
    "\n",
    "object is an iterator if it contains __next__ method\n",
    "object is iterable if it contains __iter__ method\n",
    "\n",
    "'''"
   ]
  },
  {
   "cell_type": "code",
   "execution_count": null,
   "metadata": {},
   "outputs": [],
   "source": [
    "'''\n",
    "__getitem__\n",
    "\n",
    "another way to define iterable objects\n",
    "__geteitem__ takes two parameters (self, item)\n",
    "__getitem__ returns a list-like object which you can use to iterate over or call an i-th element.\n",
    "\n",
    "however object is not an iterator as it does not have a __next__ method!\n",
    "we can bypass it just by using an iter() function on instantiated object\n",
    "md = Class(x)\n",
    "it = iter(md)\n",
    "\n",
    "next() function does not hide StopIteration() exception but for loop hides it\n",
    "\n",
    "'''"
   ]
  },
  {
   "cell_type": "code",
   "execution_count": 1,
   "metadata": {},
   "outputs": [
    {
     "data": {
      "text/plain": [
       "'\\niter function\\n\\nto check if the object is iterable simply run next(iter(object)) command. if it is not, you will receive an error. - Iter() enforces an iterator \\nover an object, if it is \\nReading from a file using while open() as file does have its own iterator - it has both __iter__ (iterable) and __next__ (iterator) method\\nBeccause of this, you can iterate over an opened file, e.g. by reading the lines\\n'"
      ]
     },
     "execution_count": 1,
     "metadata": {},
     "output_type": "execute_result"
    }
   ],
   "source": [
    "'''\n",
    "iter function\n",
    "\n",
    "to check if the object has an iterator simply run next(object) command. if it is not, you will receive an error.\n",
    "Reading from a file using while open() as file does have its own iterator - it has both __iter__ (iterable) and __next__ (iterator) method\n",
    "Beccause of this, you can iterate over an opened file, e.g. by reading the lines\n",
    "'''"
   ]
  },
  {
   "cell_type": "code",
   "execution_count": null,
   "metadata": {},
   "outputs": [],
   "source": [
    "'''\n",
    "separate iterable and iterator\n",
    "\n",
    "if __iter__ return self, the class is its own iterator. This is the most common approach.\n",
    "However you can also define a separate class to define a separate iterator for our class. This might be useful\n",
    "if we want to have the same iterator for more classes/objects - this way we have two objects - one iterable but not iterator and \n",
    "second iterator but non-iterable\n",
    "'''"
   ]
  }
 ],
 "metadata": {
  "kernelspec": {
   "display_name": "Python 3",
   "language": "python",
   "name": "python3"
  },
  "language_info": {
   "codemirror_mode": {
    "name": "ipython",
    "version": 3
   },
   "file_extension": ".py",
   "mimetype": "text/x-python",
   "name": "python",
   "nbconvert_exporter": "python",
   "pygments_lexer": "ipython3",
   "version": "3.10.11"
  }
 },
 "nbformat": 4,
 "nbformat_minor": 2
}
