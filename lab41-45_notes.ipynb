{
 "cells": [
  {
   "cell_type": "code",
   "execution_count": 1,
   "metadata": {},
   "outputs": [
    {
     "data": {
      "text/plain": [
       "'\\nerror handling\\n use\\n try:\\n    [piece of code]\\nexcept:\\n    [what to do after error]\\nelse:\\n    [piece of code` which is executed if there is no error]\\nfinally:\\n    [piece of code executed regardless of an error or not]\\n\\nyou can use except Exception as e:\\nException is an additional class that contains info on the error, e.g. whcih piece of code caused the problem. \"e\" can be used as a variable and be called in the except block\\nas means of \\nsame for an already known error, e.g.\\nexcept ValueError as e:\\n'"
      ]
     },
     "execution_count": 1,
     "metadata": {},
     "output_type": "execute_result"
    }
   ],
   "source": [
    "'''\n",
    "error handling\n",
    " use\n",
    " try:\n",
    "    [piece of code]\n",
    "except:\n",
    "    [what to do after error]\n",
    "else:\n",
    "    [piece of code` which is executed if there is no error]\n",
    "finally:\n",
    "    [piece of code executed regardless of an error or not]\n",
    "\n",
    "you can use except Exception as e:\n",
    "Exception is an additional class that contains info on the error, e.g. whcih piece of code caused the problem. \"e\" can be used as a variable and be called in the except block\n",
    "to print which part of code failed.\n",
    "'''"
   ]
  },
  {
   "cell_type": "code",
   "execution_count": null,
   "metadata": {},
   "outputs": [],
   "source": [
    "'''\n",
    "handling different errors\n",
    "\n",
    "you can add error handling for specific errors, like ValueError:\n",
    "except ValueError as e:\n",
    "    print(\"Provided value is not correct: {}\".format(e))\n",
    "\n",
    "you can also aggregate specific errors using parentheses:\n",
    "except (ValueError, ZeroDivisionError) as e:\n",
    "\n",
    "to find which error is raised by the program just run it without any except block - the software wil pring the error name in the last line\n",
    "'''"
   ]
  },
  {
   "cell_type": "code",
   "execution_count": null,
   "metadata": {},
   "outputs": [],
   "source": [
    "'''\n",
    "raising exceptions\n",
    "\n",
    "you can raise your own errors if something has to be treated as an error even if the programme compiles.\n",
    "if False #or any other condition#:\n",
    "    raise Exception (\"your error text\")\n",
    "\n",
    "you can disclose it inside a function:\n",
    "\n",
    "def ProcessData(data):\n",
    "    if data < 0:\n",
    "        raise Exception(\"this is wrong\")\n",
    "\n",
    "try:\n",
    "    ProcessData(-1)\n",
    "except Exception as e:\n",
    "    print(e)\n",
    "\n",
    "'''"
   ]
  },
  {
   "cell_type": "code",
   "execution_count": null,
   "metadata": {},
   "outputs": [],
   "source": [
    "'''\n",
    "assertions\n",
    "\n",
    "instead of checking each parameter with if blocks you can use assert to make sure the requirements are met. Writing it is as simple as:\n",
    "assert #condition#\n",
    "if condition is met the program continues, if they are not an error AssertionError is raised and script is stopped e.g.\n",
    "assert netto <= brutto\n",
    "\n",
    "it can even add a comment on the error:\n",
    "assert netto <= brutto, \"Netto can't be bigger than brutto!\"\n",
    "\n",
    "you can disable assert changing an environmental variable PYTOHNOPTIMIZE=TRUE. This parameter optimizes Python, omitting unnecessary operations (including assert)\n",
    "\n",
    "assert is better to use in tester/dev/qa environment to catch errors connected with code. When catching errors in production, it is better to use if/else and raise blocks.\n",
    "This is due to environmental variables, which might be changed int the production.\n",
    "'''"
   ]
  }
 ],
 "metadata": {
  "kernelspec": {
   "display_name": "Python 3",
   "language": "python",
   "name": "python3"
  },
  "language_info": {
   "codemirror_mode": {
    "name": "ipython",
    "version": 3
   },
   "file_extension": ".py",
   "mimetype": "text/x-python",
   "name": "python",
   "nbconvert_exporter": "python",
   "pygments_lexer": "ipython3",
   "version": "3.10.11"
  },
  "orig_nbformat": 4
 },
 "nbformat": 4,
 "nbformat_minor": 2
}
