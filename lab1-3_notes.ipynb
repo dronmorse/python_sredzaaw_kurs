{
 "cells": [
  {
   "cell_type": "code",
   "execution_count": 4,
   "metadata": {},
   "outputs": [
    {
     "name": "stdout",
     "output_type": "stream",
     "text": [
      "they are of the same type\n",
      "they are not the same object\n",
      "they are the same\n",
      "2471219864944 2471219865456\n"
     ]
    }
   ],
   "source": [
    "#TEORIA O ID I IS\n",
    "myvar = \"Hello Python\"\n",
    "myvar2 = \"Hello Python\"\n",
    "\n",
    "if type(myvar) is type(myvar2):\n",
    "    print (\"they are of the same type\")\n",
    "else:\n",
    "    print (\"they are not of the same type\")\n",
    "if myvar is myvar2:\n",
    "    print (\"they are the same object\")\n",
    "else:\n",
    "    print (\"they are not the same object\")\n",
    "if myvar == myvar2:\n",
    "    print (\"they are the same\")\n",
    "else:\n",
    "    print (\"they are different\")\n",
    "\n",
    "#print id of the varaible - if they are the same, the variable is also the same object\n",
    "print (id(myvar), id(myvar2))"
   ]
  },
  {
   "cell_type": "code",
   "execution_count": 10,
   "metadata": {},
   "outputs": [
    {
     "name": "stdout",
     "output_type": "stream",
     "text": [
      "10 140723495600688\n",
      "12 140723495600752\n",
      "I 2471130197808\n",
      "I am your father 2471208637584\n",
      "[1, 2, 3] 2471208964936\n",
      "[1, 2, 3, 4] 2471208964936\n",
      "[1, 2, 3, 4, 5] 2471208964936\n",
      "[1, 2, 3, 4, 5] 2471208964936\n",
      "[1, 2, 3, 4, 5] 2471208964936\n",
      "[1, 2, 3, 4, 5] 2471208959368\n"
     ]
    }
   ],
   "source": [
    "#mutable vs immutable\n",
    "\n",
    "#INT = is immutable, int =  immutable, meaning, that once the variable is created, it cannot be changed. Once we provide some \n",
    "# changes (e.g. adding) we create a new variable, changing the id\n",
    "\n",
    "val = 10\n",
    "print(val, id(val))\n",
    "val += 2\n",
    "print(val, id(val))\n",
    "\n",
    "#tak samo STR, str = immutable\n",
    "\n",
    "text = \"I\"\n",
    "print(text, id(text))\n",
    "text += \" am your father\"\n",
    "print(text, id(text))\n",
    "\n",
    "#LISTS are mutable, list = mutable, meaning, that changing it (e.g. appending) does not create a new variable, but changes the already \n",
    "# existing one \n",
    "\n",
    "list = [1,2,3]\n",
    "print(list, id(list))\n",
    "list.append(4)\n",
    "print(list,id(list))\n",
    "\n",
    "#mutable variables cause a dangerous thing = making changes to one list changes also all list that the first one is connected to. If the \n",
    "# variable is immutable this problem does not exist\n",
    "\n",
    "list2 = list\n",
    "list2.append(5)\n",
    "print(list,id(list))\n",
    "print(list2,id(list2))\n",
    "\n",
    "#copy() goes around this problem by forcing the creation of a new variable, that is separate from the fisrt one\n",
    "\n",
    "list3 = list.copy()\n",
    "print(list,id(list))\n",
    "print(list3,id(list3))\n"
   ]
  },
  {
   "cell_type": "code",
   "execution_count": 19,
   "metadata": {},
   "outputs": [
    {
     "name": "stdout",
     "output_type": "stream",
     "text": [
      "True <class 'bool'>\n",
      "True\n",
      "True <class 'str'>\n",
      "True\n",
      "tRuE <class 'str'>\n",
      "True\n",
      "you are an idiot <class 'str'>\n",
      "True\n",
      " <class 'str'>\n",
      "0 <class 'int'>\n",
      "False\n",
      "[] <class 'list'>\n"
     ]
    }
   ],
   "source": [
    "#boolean conversion\n",
    "\n",
    "isOk = True\n",
    "print (isOk, type(isOk))\n",
    "\n",
    "if isOk:\n",
    "    print('True')\n",
    "\n",
    "#Python can see if the boolean is true or false, even if it is provided the string with the name (string \"True\" is also understood\n",
    "# as a boolean)\n",
    "\n",
    "isOk = \"True\"\n",
    "print (isOk, type(isOk))\n",
    "\n",
    "if isOk:\n",
    "    print('True')\n",
    "\n",
    "#even if the upper- and lower-cases are not correct\n",
    "\n",
    "isOk = \"tRuE\"\n",
    "print (isOk, type(isOk))\n",
    "\n",
    "if isOk:\n",
    "    print('True')\n",
    "\n",
    "#str can be anything, it can always be understood as True!\n",
    "\n",
    "isOk = \"you are an idiot\"\n",
    "print (isOk, type(isOk))\n",
    "\n",
    "if isOk:\n",
    "    print('True')\n",
    "\n",
    "#with a small exception, empty string is understood as nothing\n",
    "\n",
    "isOk = ''\n",
    "print (isOk, type(isOk))\n",
    "\n",
    "if isOk:\n",
    "    print('True')\n",
    "if isOk == False:\n",
    "    print('False')\n",
    "\n",
    "#for integers, 1 (or any other non-zero integer) is True and 0 is False\n",
    "\n",
    "isOk = 0\n",
    "print (isOk, type(isOk))\n",
    "\n",
    "if isOk:\n",
    "    print('True')\n",
    "if isOk == False:\n",
    "    print('False')\n",
    "\n",
    "#empty list is understood as nothing, while a list with data inside is udnerstood as True\n",
    "\n",
    "isOk = []\n",
    "print (isOk, type(isOk))\n",
    "\n",
    "if isOk:\n",
    "    print('True')\n",
    "if isOk == False:\n",
    "    print('False')\n"
   ]
  }
 ],
 "metadata": {
  "kernelspec": {
   "display_name": "Python 3.7.8 64-bit",
   "language": "python",
   "name": "python3"
  },
  "language_info": {
   "codemirror_mode": {
    "name": "ipython",
    "version": 3
   },
   "file_extension": ".py",
   "mimetype": "text/x-python",
   "name": "python",
   "nbconvert_exporter": "python",
   "pygments_lexer": "ipython3",
   "version": "3.7.8"
  },
  "orig_nbformat": 4,
  "vscode": {
   "interpreter": {
    "hash": "0a54084e6b208ee8d1ce3989ffc20924477a5f55f5a43e22e699a6741623861e"
   }
  }
 },
 "nbformat": 4,
 "nbformat_minor": 2
}
