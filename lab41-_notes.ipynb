{
 "cells": [
  {
   "cell_type": "code",
   "execution_count": null,
   "metadata": {},
   "outputs": [],
   "source": [
    "'''\n",
    "error handling\n",
    " use\n",
    " try:\n",
    "    [piece of code]\n",
    "except:\n",
    "    [what to do after error]\n",
    "else:\n",
    "    [piece of code which is executed if there is no error]\n",
    "finally:\n",
    "    [piece of code executed regardless of an error or not]\n",
    "\n",
    "you can use except Exception as e:\n",
    "Exception is ana additional class that contains info on the error, e.g. whcih piece of code caused the problem. \"e\" can be used as a variable and be called in the except block\n",
    "'''"
   ]
  }
 ],
 "metadata": {
  "kernelspec": {
   "display_name": "Python 3",
   "language": "python",
   "name": "python3"
  },
  "language_info": {
   "name": "python",
   "version": "3.10.11"
  },
  "orig_nbformat": 4
 },
 "nbformat": 4,
 "nbformat_minor": 2
}
