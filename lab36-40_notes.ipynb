{
 "cells": [
  {
   "cell_type": "code",
   "execution_count": null,
   "metadata": {},
   "outputs": [],
   "source": [
    "'''\n",
    "you can make an instance callable dy adding an additional method __call__(self, x). In this method you define operations that have to be done\n",
    "after the instance is called.\n",
    "'''"
   ]
  },
  {
   "cell_type": "code",
   "execution_count": null,
   "metadata": {},
   "outputs": [],
   "source": [
    "'''\n",
    " classes can be used as decorators - in this case, in __init__ you have to pass (self, funct) where funct is a function that is going to \n",
    " be decorated\n",
    " You decorate without importing any additional libraries\n",
    " https://www.codementor.io/sheena/advanced-use-python-decorators-class-function-du107nxsv\n",
    "'''"
   ]
  },
  {
   "cell_type": "code",
   "execution_count": null,
   "metadata": {},
   "outputs": [],
   "source": [
    "'''\n",
    "operators\n",
    "there are some additional predefined methods like __add__ or __iadd__. Such methods can extend functionalities of a class. This particular ones\n",
    "allow you to simplify or allow to add new attributes or expand existing attributes by simply using operators like +=. You write it like this:\n",
    "def __iadd__(self, other):\n",
    "    self.adds.extend(other)\n",
    "    return Class(self.x, self.y,...,adds) -> IMPORTANT - it should return an object of THE SAME class!\n",
    "\n",
    "def __str__ allows you to convert an object to a string - it only tkes self as an argument. Make it return a string\n",
    "'''"
   ]
  },
  {
   "cell_type": "code",
   "execution_count": null,
   "metadata": {},
   "outputs": [],
   "source": [
    "'''\n",
    "inheritance and multiinheritance - methods from other classes can be inherited to another class. You have to pass the class as a parameter\n",
    "when defining a class - class NewClass(OldClass):\n",
    "You can use methods from the inherited class bu OldClass.method.\n",
    "you can use method super() inside the new class to create a temporary instance of inherited class - use it as super().method(parameters)\n",
    "During multiinheritance (inheriting from dfferent classes) conflicts between names can occur. \n",
    "'''"
   ]
  },
  {
   "cell_type": "code",
   "execution_count": null,
   "metadata": {},
   "outputs": [],
   "source": [
    "'''\n",
    "documenting classes - each class should have documentation. The process is fairly easy - just add a comment after the class name to describe what \n",
    "the class does. Same for the method. It is good to document every parameter/argument that the method uses/takes. Same thing happens for properties \n",
    "of a class.\n",
    "We have a special function for each class called help. You can use help(Class) or help(Class.method) to print all comments inside the class or \n",
    "method.\n",
    "'''"
   ]
  }
 ],
 "metadata": {
  "kernelspec": {
   "display_name": "Python 3",
   "language": "python",
   "name": "python3"
  },
  "language_info": {
   "name": "python",
   "version": "3.10.11"
  },
  "orig_nbformat": 4
 },
 "nbformat": 4,
 "nbformat_minor": 2
}
