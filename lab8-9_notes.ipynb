{
 "cells": [
  {
   "cell_type": "code",
   "execution_count": null,
   "metadata": {},
   "outputs": [],
   "source": [
    "'''\n",
    "zip - joins two lists into a list of tuplets - list(zip([1,2,3,4],[a,b,c,d])) -> [(1,a),(2,b),(3,c),(4,d)]\n",
    "print only zip without converting it to a list is not possible, as it is a BINARY datatype!\n",
    "\n",
    "enumarate - enumarates values in a list and forms a tuplet - list(enumerate([1,2,3,4])) -> [(1,a),(2,b),(3,c),(4,d)]\n",
    "print only enumerate without converting it to a list is not possible, as it is a BINARY datatype!\n",
    "\n",
    "'''"
   ]
  }
 ],
 "metadata": {
  "kernelspec": {
   "display_name": "Python 3",
   "language": "python",
   "name": "python3"
  },
  "language_info": {
   "name": "python",
   "version": "3.10.9 (tags/v3.10.9:1dd9be6, Dec  6 2022, 20:01:21) [MSC v.1934 64 bit (AMD64)]"
  },
  "orig_nbformat": 4,
  "vscode": {
   "interpreter": {
    "hash": "9cecb37d3d3ed08e3c98b31dd923267800720ecde2c49cefea9e70b17876fcd7"
   }
  }
 },
 "nbformat": 4,
 "nbformat_minor": 2
}
