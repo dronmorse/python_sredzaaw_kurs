{
 "cells": [
  {
   "cell_type": "code",
   "execution_count": 2,
   "metadata": {},
   "outputs": [
    {
     "data": {
      "text/plain": [
       "'\\ngenerator and yield\\n\\ngenerator is a function - you define it using def\\nsuch generator returns a value e.g. from a loop - but it uses YIELD instead of return option.\\nYield gives a value and freezes the function - until we call it again. One more call will generate the next value!\\nThere is no need to instantiate all data at once, decreasing the memory load significantly.\\nfor example:\\n\\ndef GetNumber():\\n    yield(5)\\n    yield(4)\\n\\nnumber = GetNumber()\\nprint(next(number))\\nprint(next(number))\\noutput - 5\\n'"
      ]
     },
     "execution_count": 2,
     "metadata": {},
     "output_type": "execute_result"
    }
   ],
   "source": [
    "'''\n",
    "generator and yield\n",
    "\n",
    "generator is a function - you define it using def\n",
    "such generator returns a value e.g. from a loop - but it uses YIELD instead of return option.\n",
    "Yield gives a value and freezes the function - until we call it again. One more call will generate the next value!\n",
    "There is no need to instantiate all data at once, decreasing the memory load significantly.\n",
    "for example:\n",
    "\n",
    "def GetNumber():\n",
    "    yield(5)\n",
    "    yield(4)\n",
    "\n",
    "number = GetNumber()\n",
    "print(next(number))\n",
    "print(next(number))\n",
    "output - 5 4\n",
    "Once we are out of values we will get StopIteration exception ending the for loop. You can catch it using try except block\n",
    "'''"
   ]
  },
  {
   "cell_type": "code",
   "execution_count": null,
   "metadata": {},
   "outputs": [],
   "source": [
    "'''\n",
    "Good practice in generators\n",
    "when analysing a long set of data you should not use standard for loop approach - there you load all the data and keep it in RAM\n",
    "this is not a good approach.\n",
    "If possible, you should load only one item at once, limiting used data\n",
    "generator work very well in this case, as they generate one item at a time, yields it and generates another one - so no memory is \n",
    "wasted for data storage\n",
    "'''"
   ]
  },
  {
   "cell_type": "code",
   "execution_count": null,
   "metadata": {},
   "outputs": [],
   "source": []
  }
 ],
 "metadata": {
  "kernelspec": {
   "display_name": "Python 3",
   "language": "python",
   "name": "python3"
  },
  "language_info": {
   "codemirror_mode": {
    "name": "ipython",
    "version": 3
   },
   "file_extension": ".py",
   "mimetype": "text/x-python",
   "name": "python",
   "nbconvert_exporter": "python",
   "pygments_lexer": "ipython3",
   "version": "3.10.11"
  }
 },
 "nbformat": 4,
 "nbformat_minor": 2
}
