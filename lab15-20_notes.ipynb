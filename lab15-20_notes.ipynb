{
 "cells": [
  {
   "cell_type": "code",
   "execution_count": null,
   "metadata": {},
   "outputs": [],
   "source": [
    "'''\n",
    "functions - def Function(x,y,z):\n",
    "                print(x,y,z)\n",
    "\n",
    "Function('lol','haha','wut')\n",
    "Function(x='lol',y='haha',z='wut')\n",
    "\n",
    "you can predefine a value of a parameter (it can be overwritten later on)\n",
    "IMPORTANT - if you predefine one parameter, ALL SUBSEQUENT PARAMETERS ALSO HAVE TO BE PREDEFINED!\n",
    "'''\n",
    "\n"
   ]
  },
  {
   "cell_type": "code",
   "execution_count": null,
   "metadata": {},
   "outputs": [],
   "source": [
    "'''\n",
    "when adding *args (* is important) you can add as many parameters as you want - so *args can take more than one argument - it is put at the end of arguments list\n",
    "The star is most important and args can be exchanged for anything else\n",
    "you can use **kwargs (** is important) to get a dict. Input parameters as key='value' for them to create a single dict\n",
    "'''"
   ]
  },
  {
   "cell_type": "code",
   "execution_count": null,
   "metadata": {},
   "outputs": [],
   "source": [
    "'''\n",
    "functions can be used as variables - you can assign a function or a list of functions to a variable and call them using this variable.\n",
    "The variable functions the same as the function, but if we use a list of functions each function will be called with exactly the same parameter\n",
    "provided in the parentheses\n",
    "'''"
   ]
  },
  {
   "cell_type": "code",
   "execution_count": null,
   "metadata": {},
   "outputs": [],
   "source": [
    "'''\n",
    "Function can also be called as an argument for another function. This way, you can write a function that calls a function within itself, \n",
    "e.g. providing further arguments to it. It can work as a hub for more functions, allowing you to bundle all functions under one banner and \n",
    "limit the amout of output stored while running the code\n",
    "'''"
   ]
  },
  {
   "cell_type": "code",
   "execution_count": 1,
   "metadata": {},
   "outputs": [
    {
     "data": {
      "text/plain": [
       "'\\nfunction can also return a function.  \\nTo do it, define a function with a \"source\" string that contains a function within itself. You can use the exec function to execute said string\\nand treat it as an internal function of a function\\nAfter that  you can return the function and call it in a variable with parameters for the prime function. You can then use the variable \\nto call the returned function from the prime function passing parameters for the internal function within a function\\nIMPO\\n'"
      ]
     },
     "execution_count": 1,
     "metadata": {},
     "output_type": "execute_result"
    }
   ],
   "source": [
    "'''\n",
    "function can also return a function.  \n",
    "To do it, define a function with a \"source\" string that contains a function within itself. You can use the exec function to execute said string\n",
    "and treat it as an internal function of a function\n",
    "After that  you can return the function and call it in a variable with parameters for the prime function. You can then use the variable \n",
    "to call the returned function from the prime function passing parameters for the internal function within a function\n",
    "IMPORTANT: you have to redirect exec to global environemnt (exec(function, global()))\n",
    "'''"
   ]
  },
  {
   "cell_type": "code",
   "execution_count": null,
   "metadata": {},
   "outputs": [],
   "source": []
  }
 ],
 "metadata": {
  "kernelspec": {
   "display_name": "Python 3",
   "language": "python",
   "name": "python3"
  },
  "language_info": {
   "codemirror_mode": {
    "name": "ipython",
    "version": 3
   },
   "file_extension": ".py",
   "mimetype": "text/x-python",
   "name": "python",
   "nbconvert_exporter": "python",
   "pygments_lexer": "ipython3",
   "version": "3.10.11"
  },
  "orig_nbformat": 4
 },
 "nbformat": 4,
 "nbformat_minor": 2
}
