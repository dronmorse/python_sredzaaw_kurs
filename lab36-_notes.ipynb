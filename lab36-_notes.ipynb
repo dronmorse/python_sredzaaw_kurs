{
 "cells": [
  {
   "cell_type": "code",
   "execution_count": null,
   "metadata": {},
   "outputs": [],
   "source": [
    "'''\n",
    "you can make an instance callable dy adding an additional method __call__(self, x). In this method you define operations that have to be done\n",
    "after the instance is called.\n",
    "'''"
   ]
  },
  {
   "cell_type": "code",
   "execution_count": null,
   "metadata": {},
   "outputs": [],
   "source": [
    "'''\n",
    " classes can be used as decorators - in this case, in __init__ you have to pass (self, funct) where funct is a function that is going to \n",
    " be decorated\n",
    " You decorate without importing any additional libraries\n",
    " https://www.codementor.io/sheena/advanced-use-python-decorators-class-function-du107nxsv\n",
    "'''"
   ]
  },
  {
   "cell_type": "code",
   "execution_count": null,
   "metadata": {},
   "outputs": [],
   "source": [
    "'''\n",
    "classes can inherit methods and aparemetrs from previous classes - you have to pass a class from which yo uare inheriting after the class \n",
    "name: class Car(vehicles)\n",
    "function super() calls the original class - you can use it to use methods from the original class. For example, to pass the original init\n",
    "parameters from the first class you can:\n",
    "class Car(vehicle):\n",
    "    def __init__(self, all_parameters, new_parameter)\n",
    "        super().__init__(all_parameter)\n",
    "        self.new_parameter = \"Something\"\n",
    "'''"
   ]
  }
 ],
 "metadata": {
  "kernelspec": {
   "display_name": "Python 3",
   "language": "python",
   "name": "python3"
  },
  "language_info": {
   "name": "python",
   "version": "3.10.11"
  },
  "orig_nbformat": 4
 },
 "nbformat": 4,
 "nbformat_minor": 2
}
