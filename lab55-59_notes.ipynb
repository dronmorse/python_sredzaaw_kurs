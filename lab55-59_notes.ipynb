{
 "cells": [
  {
   "cell_type": "code",
   "execution_count": null,
   "metadata": {},
   "outputs": [],
   "source": [
    "'''\n",
    "context manager \n",
    "e.g. with open() as a:\n",
    "basically, context manager is a way to work with files/data that has to be run at a certain point and closed at a given point in the future.\n",
    "When you define context manager by yourself, you need to create a cass with method __enter__. This method takes aparemters and returns self.\n",
    "Method __exit__ is also needed - it closes the object. You can call the context manager by with context_manager() as something: (similar to opening files!)\n",
    "__exit__ takes 4 arguments - self, type, value, traceback which are error exception handles\n",
    "'''"
   ]
  },
  {
   "cell_type": "code",
   "execution_count": null,
   "metadata": {},
   "outputs": [],
   "source": [
    "'''\n",
    "between enter and exit methods can be invoked to work on a created object. Object after __exit__ is invoked stops existing.\n",
    "Context manager can still be used as a normal class i.e. objects can be created and operations can be performed without with...as... syntax\n",
    "the automatic methods are invoked in the following order - init -> enter -> exit\n",
    "'''"
   ]
  },
  {
   "cell_type": "code",
   "execution_count": null,
   "metadata": {},
   "outputs": [],
   "source": [
    "'''\n",
    "error handling in context manager\n",
    "__exit__ method has 3 parameters that handle errors - type, value, traceback. Those parameters send errors to the output once the context manager exits.\n",
    "Those parameters are also set by the interpreter, so we do not overwrite them ourselves.\n",
    "we can add lines to the __exit__ that will handle those errors if they are passed to the parameter e.g. if type == \"OSError: /  return False. If we return\n",
    "True at the end of __exit__ the error is hidden, if we return False the error is returned to the program.\n",
    "If there are no errors all 3 parameters are equal to None\n",
    "WARNING: if error happens in __enter__ block, above methods will not wor kas __exit__ is never executed!\n",
    "'''"
   ]
  },
  {
   "cell_type": "code",
   "execution_count": null,
   "metadata": {},
   "outputs": [],
   "source": [
    "'''\n",
    "context manager without __enter__ or __exit__\n",
    "you can use a class without __enter__ and __exit__ methods as a context manager. You need to use decorator for it - this way, you can change\n",
    "each class into a context manager\n",
    "\n",
    "you can import a special library:\n",
    "from contextlib import contextmanager\n",
    "\n",
    "we can decorate a function that uses the following object to do things on it, e.g.\n",
    "\n",
    "@contextmanager\n",
    "def Function(object):\n",
    "    obj.method()\n",
    "    yield obj\n",
    "    obj.method()\n",
    "\n",
    "thaks to yield, the object is frozen in state between two methods - here we can use with...as... to run the context manager and perform operations. Once\n",
    "THe with...as... block ends, the function unfreezes and performs everything that is after the yield.\n",
    "\n",
    "contextlib has more interesting functions, e.g. suppress:\n",
    "with contextlib.supress(something) as e:\n",
    "\n",
    "if operations on something return an error, it is suppressed and skipped.\n",
    "\n",
    "another function is closing, which also creates a context manager:\n",
    "with contextlib.closing(something, type) as r:\n",
    "\n",
    "here you do something on a target (e.g. saved webpage or object instance) and closes it after the context manager closes.\n",
    "\n",
    "'''"
   ]
  }
 ],
 "metadata": {
  "kernelspec": {
   "display_name": "Python 3",
   "language": "python",
   "name": "python3"
  },
  "language_info": {
   "name": "python",
   "version": "3.10.11"
  }
 },
 "nbformat": 4,
 "nbformat_minor": 2
}
