{
 "cells": [
  {
   "cell_type": "code",
   "execution_count": 2,
   "metadata": {},
   "outputs": [
    {
     "data": {
      "text/plain": [
       "'\\ngenerator and yield\\n\\ngenerator is a function - you define it using def\\nsuch generator returns a value e.g. from a loop - but it uses YIELD instead of return option.\\nYield gives a value and freezes the function - until we call it again. One more call will generate the next value!\\nThere is no need to instantiate all data at once, decreasing the memory load significantly.\\nfor example:\\n\\ndef GetNumber():\\n    yield(5)\\n    yield(4)\\n\\nnumber = GetNumber()\\nprint(next(number))\\nprint(next(number))\\noutput - 5\\n'"
      ]
     },
     "execution_count": 2,
     "metadata": {},
     "output_type": "execute_result"
    }
   ],
   "source": [
    "'''\n",
    "generator and yield\n",
    "\n",
    "generator is a function - you define it using def\n",
    "such generator returns a value e.g. from a loop - but it uses YIELD instead of return option.\n",
    "Yield gives a value and freezes the function - until we call it again. One more call will generate the next value!\n",
    "there is also yield from - useful in recursive calling, it is executed even after yield!\n",
    "There is no need to instantiate all data at once, decreasing the memory load significantly.\n",
    "for example:\n",
    "\n",
    "def GetNumber():\n",
    "    yield(5)\n",
    "    yield(4)\n",
    "\n",
    "number = GetNumber()\n",
    "print(next(number))\n",
    "print(next(number))\n",
    "output - 5 4\n",
    "Once we are out of values we will get StopIteration exception ending the for loop. You can catch it using try except block\n",
    "'''"
   ]
  },
  {
   "cell_type": "code",
   "execution_count": null,
   "metadata": {},
   "outputs": [],
   "source": [
    "'''\n",
    "Good practice in generators\n",
    "when analysing a long set of data you should not use standard for loop approach - there you load all the data and keep it in RAM\n",
    "this is not a good approach.\n",
    "If possible, you should load only one item at once, limiting used data\n",
    "generator work very well in this case, as they generate one item at a time, yields it and generates another one - so no memory is \n",
    "wasted for data storage\n",
    "'''"
   ]
  },
  {
   "cell_type": "code",
   "execution_count": null,
   "metadata": {},
   "outputs": [],
   "source": [
    "'''\n",
    "generators can be passed as arguments to another functions and/or generators. THey will work as passing a whole list, but they\n",
    "will generate items one by one, lowering RAM usage. So, you can create a generator of file names in the folder and after that you \n",
    "can pass them to ANOTHER generator that will generate files only of the given name - even though the items will be genereted one\n",
    "at a time, the outcome will look the same as for the whole passed list!\n",
    "If a function is expected to take a generator as input it also has to have a way to handle it - it has to have an ption to iterate over the generator e.g.\n",
    "using for loop\n",
    "'''"
   ]
  },
  {
   "cell_type": "code",
   "execution_count": null,
   "metadata": {},
   "outputs": [],
   "source": [
    "'''\n",
    "itertools - importable function packet for iterating over an iterable.\n",
    "\n",
    "for example you have itertools.combinations(a,b) - generates a tuple made of iterable a of length b - built of randomly picked values without returning\n",
    "order does not matter\n",
    "itertools.permutations(a,b) - generates a tuple made of iterable a of length b - built of randomly picked values without returning\n",
    "order does matter\n",
    "itertools.combinations_with_replacement() - (a,b) - generates a tuple made of iterable a of length b - built of randomly picked values with returning\n",
    "order does not matter\n",
    "itertools.product(a,b) - generates tuples of b length from iterable a - order matters, elements can repeat\n",
    "'''"
   ]
  },
  {
   "cell_type": "code",
   "execution_count": null,
   "metadata": {},
   "outputs": [],
   "source": [
    "'''\n",
    "itertools - groupby \n",
    "This method calculates the keys for each element present in iterable. It returns key and iterable of grouped items.\n",
    "itertools.groupby(iterable, key_func) \n",
    "- iterable: Iterable can be of any kind (list, tuple, dictionary).\n",
    "key: A function that calculates keys for each element present in iterable.\n",
    "\n",
    "if the initital data is not sorted it will return the keys and all elements multiple times - to avoid it just sort the initial data using:\n",
    "sorted(data, sorting_parameter). In sorting_aparameter pass a functn e.g. lambda function to specify the order, e.g. keys in a dictionary\n",
    "'''\n"
   ]
  },
  {
   "cell_type": "code",
   "execution_count": null,
   "metadata": {},
   "outputs": [],
   "source": [
    "'''\n",
    "itertools methods\n",
    "accumulate(data, function) - returns data as in a for loop but by using a given function, e.g. max or pow\n",
    "count(a,b) - counts from a to b \n",
    "cycle(a) - goes through an iterable infinitely\n",
    "chain(a,b) - connects two iterators together\n",
    "compress(a, b) - a is data, b is a list of True/False - it returns only data that correspond to True values in b\n",
    "dropwhile(a, b) - a is a lambda function, b is data, returns only data that do not fulfill the lambda function. Problem here is, taht the boolean changes\n",
    "once, so if it is changed it will take even elements that do not fulfill the lambda function\n",
    "takewhile(a, b) - reverse of dropwhile\n",
    "filterfalse(a, b) - similar, but removes ones that do not fulfill and the boolean change problem does not occur - each parameter is checked separately\n",
    "isslice(a, b) - cuts from an iterable from position a to position b (same principles as for range)\n",
    "product(a,b) - takes iterable a and creates a cartesian product (multiply) by the second iterable\n",
    "repeat(a,b) - prints parameter a b times\n",
    "starmap(a, b) - a is an operator (e.g. operator a) and sums values in tuples in iterable b\n",
    "tee(a) - allows you to create a given amount of iterators from a given iterable object - e.g. iter_a, iter_b = itertools.tee(itereable)\n",
    "by default the number of iterators is equal two, but you cant change it by specifying the secnd parameter\n",
    "zip_longest(a,b,fillvalue=c) - allows you to zip lists not equal in size - list a is zipped with list b, empty overhang is filled with paramter c\n",
    "islice(a, b) - a is a generator (miht be even a very long one), b is amount of values we want to return - islice stops the generator once \n",
    "a given amount of values is returned\n",
    "'''"
   ]
  }
 ],
 "metadata": {
  "kernelspec": {
   "display_name": "Python 3",
   "language": "python",
   "name": "python3"
  },
  "language_info": {
   "codemirror_mode": {
    "name": "ipython",
    "version": 3
   },
   "file_extension": ".py",
   "mimetype": "text/x-python",
   "name": "python",
   "nbconvert_exporter": "python",
   "pygments_lexer": "ipython3",
   "version": "3.10.11"
  }
 },
 "nbformat": 4,
 "nbformat_minor": 2
}
