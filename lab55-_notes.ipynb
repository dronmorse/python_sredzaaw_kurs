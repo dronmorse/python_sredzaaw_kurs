{
 "cells": [
  {
   "cell_type": "code",
   "execution_count": null,
   "metadata": {},
   "outputs": [],
   "source": [
    "'''\n",
    "context manager \n",
    "e.g. with open() as a:\n",
    "basically, context manager is a way to work with files/data that has to be run at a certain point and closed at a given point in the future.\n",
    "When you define context manager by yourself, you need to create a cass with method __enter__. This method takes aparemters and returns self.\n",
    "Method __exit__ is also needed - it closes the object. You can call the context manager by with context_manager() as something: (similar to opening files!)\n",
    "__exit__ takes 4 arguments - self, type, value, traceback\n",
    "'''"
   ]
  },
  {
   "cell_type": "code",
   "execution_count": null,
   "metadata": {},
   "outputs": [],
   "source": [
    "'''\n",
    "ini files\n",
    "\n",
    "\n",
    "'''"
   ]
  }
 ],
 "metadata": {
  "kernelspec": {
   "display_name": "Python 3",
   "language": "python",
   "name": "python3"
  },
  "language_info": {
   "name": "python",
   "version": "3.10.11"
  }
 },
 "nbformat": 4,
 "nbformat_minor": 2
}
