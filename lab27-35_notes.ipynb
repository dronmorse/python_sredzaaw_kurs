{
 "cells": [
  {
   "cell_type": "code",
   "execution_count": null,
   "metadata": {},
   "outputs": [],
   "source": [
    "'''\n",
    "Classes - connects functions and data together. \n",
    "Attributes = data\n",
    "Methods = functions\n",
    "\n",
    "class Car:\n",
    "    def __init__(self, brand, model, isAirBagOK): #very important! you wll have to pass the attributes when calling the class. self defines THIS instance\n",
    "        self.brand = brand #as self is the initialized object, you have to pass the provided  arguments to the object - just like that\n",
    "        self.model = model\n",
    "        self.isAirBagOK = isAirBagOK\n",
    "\n",
    "car_01 = Car('Seat','Ibiza',True) #this way we are initiating an object. A Seat Ibiza with working airbags is initialized and saved under car_01 variable\n",
    "print(car_01.brand, car_01,model, car_01,isAirBagOK)\n",
    "\n",
    "This way \n",
    "'''"
   ]
  },
  {
   "cell_type": "code",
   "execution_count": null,
   "metadata": {},
   "outputs": [],
   "source": [
    "'''\n",
    "you can add a function to a Class (it is called a method). When you pass parameter as \"self\" it is taking the INITIALIZED INSTANCE as the \n",
    "parameter - you also don't have to pass it when calling a method from a class, python will always pass it automatically\n",
    "\n",
    "to use it it is best to call an instance first and after that call a method upon that:\n",
    "instance = Class(parameters)\n",
    "print(instance.method())\n",
    "But it is also possible to call it in a single line - Class(parameters).method()\n",
    "you can also define variables inside the class (not under init!!)\n",
    "class Car:  \n",
    "    nrcars = 0\n",
    "    listcars = []\n",
    "\n",
    "To call them within a method use class.variable =,+= etc.\n",
    "'''"
   ]
  },
  {
   "cell_type": "code",
   "execution_count": null,
   "metadata": {},
   "outputs": [],
   "source": [
    "'''\n",
    "vars() - Returns info of instance of a given class\n",
    "dir() - This function displays more attributes than vars() function, as it is\n",
    "not limited to an instance. It displays the class attributes as well. It also displays the attributes of its ancestor classes.\n",
    "isinstance(x,y) - checks if x is an instance of y class\n",
    "type() - returns the type of the object (to check if this is a class or an instance)\n",
    "'''"
   ]
  },
  {
   "cell_type": "code",
   "execution_count": null,
   "metadata": {},
   "outputs": [],
   "source": [
    "'''\n",
    "to hide a variable in a method you can do something like this:\n",
    "class Car:\n",
    "    def __init__(self,enginestatus):\n",
    "        self.__enginestatus = enginestatus\n",
    "\n",
    "you will have to call this parameter every time you use the method/class!\n",
    "Now it is impossible to change the parameter lol to something else!\n",
    "Car(True).__enginestatus = False\n",
    "will not work and the status will still be True! BE CAREFUL - IT DOESNT RETURN AN ERROR! In fact, it will create a new attribute!\n",
    "\n",
    "however it is not perfect - the parameter just is hidden under a new name: _Car__enginestatus so someone may still modify it in the future\n",
    "What is important is that you can change it in a method in a class - so it is still modifiable using methods, but not from outside the class\n",
    "\n",
    "to remove an attribute from an object use del Car('True').enginestatus\n",
    "to add a new attrubite to an object use setattr(x,y,z) x - Object, y - attribute's name z - attribute's value\n",
    "same with delattr - deletes\n",
    "hasattr(x,y) (as above) checks if the attribute is an attribute\n",
    "'''"
   ]
  },
  {
   "cell_type": "code",
   "execution_count": null,
   "metadata": {},
   "outputs": [],
   "source": [
    "'''\n",
    " class properties - properties are defined insisde a class. You can define them with property_name = property(w,x,y,z)\n",
    " w - which method is used to get the value of an attribute\n",
    " x - which method changes the value of an attribute\n",
    " y - which function can remove the attribute\n",
    " z - documentation for the property (optional)\n",
    "\n",
    " to use it, just go with object.property_name = value\n",
    "\n",
    " now you can also hide methods so that noone can use them outside the property! Just chenage the name of methods inside the class with __\n",
    " cange the referring names in property and voila! (same thing as with attributes, they can be called with _Class__method)\n",
    "'''"
   ]
  },
  {
   "cell_type": "code",
   "execution_count": null,
   "metadata": {},
   "outputs": [],
   "source": [
    "'''\n",
    "Class methods:\n",
    "Class methods define an instance while working on a class!\n",
    "methods in a class no working on the instance - those are the methods that do not start with self parameter. Such a method should be decorated\n",
    "with @classmethod (similarly to wrappers). Such method is defined INSIDE THE CLASS. The first argument of this method is cls, to refer to class\n",
    "instead of an instance. The second parameter is a value. How it works: for example, you provide a line of text that provides parameters for class\n",
    "and they are separated with commas. You can write a class method that reads this line, creates a list (with split), converts it to separate values\n",
    "(*Text.split()) and returns this new instance that will be assigned to a new name. (if you are using a split function and you would like to return \n",
    "separate values instead of a list)\n",
    "it looks like this\n",
    "\n",
    "class Rocket:\n",
    "    def __init__(self, fuel, material):\n",
    "        self.fuel = fuel\n",
    "        self.material = material\n",
    "\n",
    "    @classmethod\n",
    "    def ReadText(cls, text):\n",
    "        newinst = cls(*text.split(\",\"))\n",
    "        return newinst\n",
    "    \n",
    "parameters = \"RocketFuel,Steel\"\n",
    "new_rocket = Rocket.ReadText(parameters)\n",
    "\n",
    "Interesting thought: you can call a class method on an instance previously created - as the instance has access to the method it will work perfectly\n",
    "fine and will generate a new instance, completely separate one to be precise\n",
    "'''"
   ]
  },
  {
   "cell_type": "code",
   "execution_count": null,
   "metadata": {},
   "outputs": [],
   "source": [
    "'''\n",
    "Static methods:\n",
    "Similarly to class methods, they have to be decorated - with @staticmethod. Those methods work just as functions - they do not have any special\n",
    "parameter like self or cls and work separately from class or instance.\n",
    "What's more, you can call them from both class (Class.staticmethod()) or from instance (instance.staticmethod()) while you can't call an instance\n",
    "method (one with self) by calling only a class.\n",
    "Static methods work separately, so they can also be defined outside of a class. The only profit from it is that when you export the class \n",
    "somewhere else you also copy those static methods\n",
    "'''"
   ]
  },
  {
   "cell_type": "code",
   "execution_count": null,
   "metadata": {},
   "outputs": [],
   "source": [
    "'''\n",
    "PICKLE\n",
    "import pickle\n",
    "if f is a file handle and obj is an object (e.g. self):\n",
    "pickle.dump(obj, f) (saving a file)\n",
    "new_obj = pickle.load(f) (loading a file)\n",
    "\n",
    "FILES HAVE TO BE OPENED IN A BINARY MODE (EITHER WB OR RB) TO WORK PROPERLY!\n",
    "https://pl.python.org/docs/tut/node9.html\n",
    "'''\n",
    "\n",
    "'''\n",
    "import glob\n",
    "glob.glob('c:/temp/*.txt') (listing all txt files in a given directory)\n",
    "https://pl.wikibooks.org/wiki/Zanurkuj_w_Pythonie/Praca_z_katalogami\n",
    "'''"
   ]
  },
  {
   "cell_type": "code",
   "execution_count": null,
   "metadata": {},
   "outputs": [],
   "source": [
    "'''\n",
    "adding properties with decorators\n",
    "there are 2 more decorators in classes - @property and @<property_name>.setter\n",
    "\n",
    "using it is very simple - you have to define a method which returns the property value, decorate with @property and after it add a method that\n",
    "changes the value of a given property and decorate it with @<property_name>.setter. In principle, it is the same as defining a property with\n",
    "property() but you dont need to write an additional line of code\n",
    "WARNING - the function that changers a property has to have EXACTLY THE SAME name as the property!\n",
    "IMPORTANT - you cannot remove such attribute! this way you can safeguard yourself from malicious intentions of removing the property from your\n",
    "object! HOWEVER  you can enable the removal of this property with YET ANOTHER decorator - @<property_name.deleter. Again, it has to have the name\n",
    "exactly the same as the original property and the only thing it does it sets the property to None: self.property = None. Now you can use \n",
    "del object.property and remove the property from the object\n",
    "'''"
   ]
  },
  {
   "cell_type": "code",
   "execution_count": null,
   "metadata": {},
   "outputs": [],
   "source": [
    "'''\n",
    "you can dynamically add a method to a class.\n",
    "To do it, define a function outside a class which you will add to class. You can add it to the class by calling:\n",
    "class.New_Method_Name = Defined_Function\n",
    "you can dynamically add a static method, class method and a instance method.\n",
    "To add a static method, just define a regular function not related to the class.\n",
    "\n",
    "To add a class method a special module is required - import types\n",
    "To add a class method, you have to start the function parameter list with cls (same as in class methods). The data can be called from the class.\n",
    "E.g. you can define a list of instances inside a class and call them in a for loop, pulling parameters that interest you\n",
    "You can import the method to a class by:\n",
    "class.New_Method_Name = types.MethodType(Defined_Function, class)\n",
    "\n",
    "To add an instance method a special module is required - import types\n",
    "To add a class method, you have to start the function parameter list with self (same as in instance methods). The rest is very similar to class\n",
    "method by refers only to one instance and not to whole class.\n",
    "You can import the method to an instance by:\n",
    "instance.New_Method_Name = types.MethodType(Defined_Function, instance)\n",
    "'''"
   ]
  }
 ],
 "metadata": {
  "kernelspec": {
   "display_name": "Python 3",
   "language": "python",
   "name": "python3"
  },
  "language_info": {
   "name": "python",
   "version": "3.10.11"
  },
  "orig_nbformat": 4
 },
 "nbformat": 4,
 "nbformat_minor": 2
}
