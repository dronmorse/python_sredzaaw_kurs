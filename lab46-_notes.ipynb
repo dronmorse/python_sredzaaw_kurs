{
 "cells": [
  {
   "cell_type": "code",
   "execution_count": null,
   "metadata": {},
   "outputs": [],
   "source": [
    "'''\n",
    "iterators and iterable types\n",
    "\n",
    "Iterable object is an object you can use a for loop on\n",
    "\n",
    "Iterator adds new values to the iterable object or creates one - iterators are classes that generate object with methods __next__, __iter__\n",
    "creating iterators instead of loops is much less demanding on the CPU and overall resources. It also requires less code\n",
    "if you don't want to create your own class, you can use two functions: iter(object) creates an iterator of a given object e.g. a list, \n",
    "next(iter(object)) moves to the next element of the object and returns it e.g. for printing\n",
    "\n",
    "\n",
    "__next__ method is a part of the built-in iterator and can be called on an iterator:\n",
    "list = [1,2,3,4,5]\n",
    "a = iter(list)\n",
    "while True:\n",
    "    try:\n",
    "        print(a.__next__()) \n",
    "    except:\n",
    "        break\n",
    "\n",
    "next() can be replaced by .__next__()\n",
    "iter() can be replaced by .__iter__()\n",
    "\n",
    "when creating a class, in the __next__ method, for the condition under which the iteration should stop, use raise StopIteration()\n",
    "\n",
    "object is an iterator if it contains __next__ method\n",
    "object is iterable if it contains __iter__ method\n",
    "\n",
    "'''"
   ]
  },
  {
   "cell_type": "code",
   "execution_count": null,
   "metadata": {},
   "outputs": [],
   "source": [
    "'''\n",
    "__getitem__\n",
    "\n",
    "another way to define iterable objects\n",
    "__geteitem__ takes two parameters (self, item)\n",
    "\n",
    "however object is not an iterator as it does not have a __next__ method!\n",
    "we can bypass it just by using an iter() function on instantiated object\n",
    "md = Class(x)\n",
    "it = iter(md)\n",
    "\n",
    "'''"
   ]
  }
 ],
 "metadata": {
  "language_info": {
   "name": "python"
  }
 },
 "nbformat": 4,
 "nbformat_minor": 2
}
