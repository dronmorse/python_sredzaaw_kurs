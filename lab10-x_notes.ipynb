{
 "cells": [
  {
   "cell_type": "code",
   "execution_count": null,
   "metadata": {},
   "outputs": [],
   "source": [
    "'''\n",
    "lab10\n",
    "\n",
    "listA = list(range(6))\n",
    "listB = list(range(6))\n",
    "\n",
    "product = []\n",
    "for a in listA:\n",
    "    for b in listB:\n",
    "        product.append((a,b))\n",
    "print (product)\n",
    "\n",
    "to to samo co:\n",
    "\n",
    "product = [(a,b) for a in listA for b in listB]\n",
    "print (product)\n",
    ":)\n",
    "\n",
    "product = [(a,b) for a in listA for b in listB if a % 2 == 1 and b % 2 == 1]\n",
    "print (product)\n",
    "\n",
    " \n",
    "'''\n",
    "\n",
    "'''\n",
    "lab11\n",
    "generatory\n",
    "gen = ((a,b) for a in listA for b in listB))\n",
    "\n",
    "generator nie zajmuje pamięci a jedynie mówi o kolejności generowania zmiennych w sekwencji. Użyteczne przy BARDZO DUŻEJ ilości danych\n",
    "GIMMICK - interowanie po generatorach jest inne. Jeżeli wywołamy zmienną z generatora to nie da się jej wywołać ponownie! Na przykład, \n",
    "jezeli pierwszą wartością generatora jest 1 a drugą jest 2, po wywołaniu pierwszej wartości next(gen) otrzymamy jeden, lecz po kolejnej\n",
    "próbie wywołania generatora (np. w pętli albo funkcją next) otrzymamy 2 (a nie 1!!!) Jeżeli wygenerujemy cały generator to kolejne zapytania\n",
    "odpowiedzą pustym stringiem. Jeżeli chcemy iterować od nowa po generatorze należy go od nowa zdefiniować.\n",
    "\n",
    "while True:\n",
    "    try:\n",
    "        print(next(gen))\n",
    "    except StopIteration:\n",
    "        print(\"all values have been generated\")\n",
    "        break\n",
    "\n",
    "lab12\n",
    "'''"
   ]
  },
  {
   "cell_type": "code",
   "execution_count": null,
   "metadata": {},
   "outputs": [],
   "source": []
  }
 ],
 "metadata": {
  "language_info": {
   "name": "python"
  },
  "orig_nbformat": 4
 },
 "nbformat": 4,
 "nbformat_minor": 2
}
